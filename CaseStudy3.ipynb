{
 "cells": [
  {
   "cell_type": "markdown",
   "metadata": {},
   "source": [
    "# Case Study 3 : Textual analysis of movie reviews\n",
    "\n",
    "** Due Date: November 16, 2017, BEFORE the beginning of class at 6:00pm **\n",
    "\n",
    "NOTE: There are always last minute issues submitting the case studies. DO NOT WAIT UNTIL THE LAST MINUTE!\n",
    "\n",
    "*------------"
   ]
  },
  {
   "cell_type": "markdown",
   "metadata": {},
   "source": [
    "<img src=\"http://www.conversational-technologies.com/nldemos/nlWordle.GIF\">"
   ]
  },
  {
   "cell_type": "markdown",
   "metadata": {},
   "source": [
    "**TEAM Members:** Please EDIT this cell and add the names of all the team members in your team\n",
    "\n",
    "- Yan Wu\n",
    "- Shiyang Xia\n",
    "- Yuhao Zheng\n",
    "- Zijun Xu\n",
    "- Han Bao"
   ]
  },
  {
   "cell_type": "markdown",
   "metadata": {},
   "source": [
    "**Desired outcome of the case study.**\n",
    "* In this case study we will look at movie reviews from the v2.0 polarity dataset comes from\n",
    "the http://www.cs.cornell.edu/people/pabo/movie-review-data.\n",
    "    * It contains written reviews of movies divided into positive and negative reviews.\n",
    "* As in Case Study 2 idea is to *analyze* the data set, make *conjectures*, support or refute those conjectures with *data*, and *tell a story* about the data!\n",
    "    \n",
    "**Required Readings:** \n",
    "* This case study will be based upon the scikit-learn Python library\n",
    "* We will build upon the turtorial \"Working With Text Data\" which can be found at http://scikit-learn.org/stable/tutorial/text_analytics/working_with_text_data.html\n",
    "\n",
    "**Case study assumptions:**\n",
    "* You have access to a python installation\n",
    "\n",
    "**Required Python libraries:**\n",
    "* Numpy (www.numpy.org) (should already be installed from Case Study 2)\n",
    "* Matplotlib (matplotlib.org) (should already be installed from Case Study 2)\n",
    "* Scikit-learn (scikit-learn.org) (avaiable from Anaconda)\n",
    "* You are also welcome to use the Python Natural Language Processing Toolkit (www.nltk.org) (though it is not required).\n",
    "\n",
    "** NOTE **\n",
    "* Please don't forget to save the notebook frequently when working in IPython Notebook, otherwise the changes you made can be lost.\n",
    "\n",
    "*----------------------"
   ]
  },
  {
   "cell_type": "markdown",
   "metadata": {},
   "source": [
    "## Problem 1 (20 points): Complete Exercise 2: Sentiment Analysis on movie reviews from http://scikit-learn.org/stable/tutorial/text_analytics/working_with_text_data.html"
   ]
  },
  {
   "cell_type": "markdown",
   "metadata": {},
   "source": [
    "* Assuming that you have downloaded the scikit-learn source code (depending on your distribution, you may need to download this directly from Gitub at https://github.com/scikit-learn/scikit-learn):\n",
    "    * The data cane be downloaded using doc/tutorial/text_analytics/data/movie_reviews/fetch_data.py\n",
    "    * A skeleton for the solution can be found in doc/tutorial/text_analytics/skeletons/exercise_02_sentiment.py\n",
    "    * A completed solution can be found in doc/tutorial/text_analytics/solutions/exercise_02_sentiment.py\n",
    "* **It is ok to use the solution provided in the scikit-learn distribution as a starting place for your work.**\n",
    "\n",
    "### Modify the solution to Exercise 2 so that it can run in this iPython notebook\n",
    "* This will likely involved moving around data files and/or small modifications to the script."
   ]
  },
  {
   "cell_type": "code",
   "execution_count": 7,
   "metadata": {},
   "outputs": [
    {
     "name": "stdout",
     "output_type": "stream",
     "text": [
      "Downloading dataset from http://www.cs.cornell.edu/people/pabo/movie-review-data/review_polarity.tar.gz (3 MB)\n",
      "Decompressing review_polarity.tar.gz\n",
      "Download Completed\n"
     ]
    }
   ],
   "source": [
    "\"\"\"Script to download the movie review dataset\"\"\"\n",
    "\n",
    "import os\n",
    "import tarfile\n",
    "from contextlib import closing\n",
    "try:\n",
    "    from urllib import urlopen\n",
    "except ImportError:\n",
    "    from urllib.request import urlopen\n",
    "\n",
    "\n",
    "URL = (\"http://www.cs.cornell.edu/people/pabo/\"\n",
    "       \"movie-review-data/review_polarity.tar.gz\")\n",
    "\n",
    "ARCHIVE_NAME = URL.rsplit('/', 1)[1]\n",
    "DATA_FOLDER = \"txt_sentoken\"\n",
    "\n",
    "\n",
    "if not os.path.exists(DATA_FOLDER):\n",
    "\n",
    "    if not os.path.exists(ARCHIVE_NAME):\n",
    "        print(\"Downloading dataset from %s (3 MB)\" % URL)\n",
    "        opener = urlopen(URL)\n",
    "        with open(ARCHIVE_NAME, 'wb') as archive:\n",
    "            archive.write(opener.read())\n",
    "\n",
    "    print(\"Decompressing %s\" % ARCHIVE_NAME)\n",
    "    with closing(tarfile.open(ARCHIVE_NAME, \"r:gz\")) as archive:\n",
    "        archive.extractall(path='.')\n",
    "    os.remove(ARCHIVE_NAME)\n",
    "print('Download Completed')"
   ]
  },
  {
   "cell_type": "markdown",
   "metadata": {},
   "source": [
    "#### Exercise 2: Sentiment Analysis on movie reviews\n",
    "- Write a text classification pipeline to classify movie reviews as either positive or negative.\n",
    "- Find a good set of parameters using grid search.\n",
    "- Evaluate the performance on a held out test set."
   ]
  },
  {
   "cell_type": "code",
   "execution_count": 12,
   "metadata": {
    "scrolled": false
   },
   "outputs": [
    {
     "name": "stdout",
     "output_type": "stream",
     "text": [
      "n_samples: 2000\n",
      "0 params - {'vect__ngram_range': (1, 1)}; mean - 0.83; std - 0.02\n",
      "1 params - {'vect__ngram_range': (1, 2)}; mean - 0.86; std - 0.01\n",
      "             precision    recall  f1-score   support\n",
      "\n",
      "        neg       0.87      0.87      0.87       251\n",
      "        pos       0.87      0.87      0.87       249\n",
      "\n",
      "avg / total       0.87      0.87      0.87       500\n",
      "\n",
      "Confusion Matrix:\n",
      " [[219  32]\n",
      " [ 32 217]]\n"
     ]
    },
    {
     "data": {
      "image/png": "[encoded data removed]",
      "text/plain": [
       "<matplotlib.figure.Figure at 0x1c0d63b89e8>"
      ]
     },
     "metadata": {},
     "output_type": "display_data"
    }
   ],
   "source": [
    "import sys\n",
    "from sklearn.feature_extraction.text import TfidfVectorizer\n",
    "from sklearn.svm import LinearSVC\n",
    "from sklearn.pipeline import Pipeline\n",
    "from sklearn.model_selection import GridSearchCV\n",
    "from sklearn.datasets import load_files\n",
    "from sklearn.model_selection import train_test_split\n",
    "from sklearn import metrics\n",
    "import matplotlib.pyplot as plt\n",
    "import numpy as np\n",
    "\n",
    "if __name__ == \"__main__\":\n",
    "    movie_reviews_data_folder = 'txt_sentoken'\n",
    "    dataset = load_files(movie_reviews_data_folder, shuffle=False)\n",
    "    print(\"n_samples: %d\" % len(dataset.data))\n",
    "\n",
    "    docs_train, docs_test, y_train, y_test = train_test_split(\n",
    "        dataset.data, dataset.target, test_size=0.25, random_state=None)\n",
    "\n",
    "    pipeline = Pipeline([\n",
    "        ('vect', TfidfVectorizer(min_df=3, max_df=0.95)),\n",
    "        ('clf', LinearSVC(C=1000)),\n",
    "    ])\n",
    "\n",
    "    parameters = {\n",
    "        'vect__ngram_range': [(1, 1), (1, 2)],\n",
    "    }\n",
    "    grid_search = GridSearchCV(pipeline, parameters, n_jobs=-1)\n",
    "    grid_search.fit(docs_train, y_train)\n",
    "\n",
    "    n_candidates = len(grid_search.cv_results_['params'])\n",
    "    for i in range(n_candidates):\n",
    "        print(i, 'params - %s; mean - %0.2f; std - %0.2f'\n",
    "              % (grid_search.cv_results_['params'][i],\n",
    "                 grid_search.cv_results_['mean_test_score'][i],\n",
    "                 grid_search.cv_results_['std_test_score'][i]))\n",
    "\n",
    "    y_predicted = grid_search.predict(docs_test)\n",
    "\n",
    "    print(metrics.classification_report(y_test, y_predicted, target_names=dataset.target_names))\n",
    "\n",
    "    cm = metrics.confusion_matrix(y_test, y_predicted)\n",
    "    print('Confusion Matrix:\\n', cm)\n",
    "\n",
    "    plt.matshow(cm)\n",
    "    plt.show()"
   ]
  },
  {
   "cell_type": "markdown",
   "metadata": {},
   "source": [
    "## Problem 2 (20 points): Explore the scikit-learn TfidVectorizer class\n",
    "\n",
    "**Read the documentation for the TfidVectorizer class at http://scikit-learn.org/stable/modules/generated/sklearn.feature_extraction.text.TfidfVectorizer.html.** \n",
    "* Define the term frequency–inverse document frequency (TF-IDF) statistic (http://en.wikipedia.org/wiki/Tf%E2%80%93idf will likely help).\n",
    "* Run the TfidVectorizer class on the training data above (docs_train).\n",
    "* Explore the min_df and max_df parameters of TfidVectorizer.  What do they mean? How do they change the features you get?\n",
    "* Explore the ngram_range parameter of TfidVectorizer.  What does it mean? How does it change the features you get? (Note, large values  of ngram_range may take a long time to run!)"
   ]
  },
  {
   "cell_type": "markdown",
   "metadata": {},
   "source": [
    "---\n",
    "- min_df : float in range [0.0, 1.0] or int, default=1\n",
    "```\n",
    "When building the vocabulary ignore terms that have a document frequency strictly lower than the given threshold. This value is also called cut-off in the literature. If float, the parameter represents a proportion of documents, integer absolute counts. This parameter is ignored if vocabulary is not None.\n",
    "```"
   ]
  },
  {
   "cell_type": "code",
   "execution_count": 1,
   "metadata": {},
   "outputs": [
    {
     "data": {
      "image/png": "[encoded data removed]",
      "text/plain": [
       "<matplotlib.figure.Figure at 0x25ce2541828>"
      ]
     },
     "metadata": {},
     "output_type": "display_data"
    }
   ],
   "source": [
    "from sklearn.feature_extraction.text import TfidfVectorizer\n",
    "from sklearn.svm import LinearSVC\n",
    "from sklearn.pipeline import Pipeline\n",
    "from sklearn.model_selection import GridSearchCV\n",
    "from sklearn.datasets import load_files\n",
    "from sklearn.model_selection import train_test_split\n",
    "import matplotlib.pyplot as plt\n",
    "\n",
    "if __name__ == \"__main__\":\n",
    "    movie_reviews_data_folder = 'txt_sentoken'\n",
    "    dataset = load_files(movie_reviews_data_folder, shuffle=False)\n",
    "\n",
    "    docs_train, docs_test, y_train, y_test = train_test_split(\n",
    "        dataset.data, dataset.target, test_size=0.25, random_state=None)\n",
    "\n",
    "    pipeline = Pipeline([\n",
    "        ('vect', TfidfVectorizer()),\n",
    "        ('clf', LinearSVC(C=1000)),\n",
    "    ])\n",
    "\n",
    "    parameters = {\n",
    "        ''\n",
    "        'vect__min_df': [i for i in range(20)],\n",
    "    }\n",
    "    grid_search = GridSearchCV(pipeline, parameters, n_jobs=-1)\n",
    "    grid_search.fit(docs_train, y_train)\n",
    "    n_candidates = len(grid_search.cv_results_['params'])\n",
    "           \n",
    "    min_df = []\n",
    "    mean = []   \n",
    "    for i in range(n_candidates):\n",
    "            min_df.append(grid_search.cv_results_['params'][i]['vect__min_df'])\n",
    "            mean.append(grid_search.cv_results_['mean_test_score'][i])\n",
    "        \n",
    "    plt.figure(figsize=(8,5), dpi=100)\n",
    "    plt.plot(min_df, mean)\n",
    "    plt.xticks(min_df)\n",
    "    for i in min_df:\n",
    "        plt.axvline(x=i,linewidth=1, color='silver' )\n",
    "    plt.xlabel(\"min_df\")\n",
    "    plt.ylabel(\"Average Accuracy\")  \n",
    "    plt.title(\"Relation between min_df and accuracy\")\n",
    "    plt.tight_layout()\n",
    "    plt.show()"
   ]
  },
  {
   "cell_type": "markdown",
   "metadata": {},
   "source": [
    "---\n",
    "- max_df : float in range [0.0, 1.0] or int, default=1.0\n",
    "```\n",
    "When building the vocabulary ignore terms that have a document frequency strictly higher than the given threshold (corpus-specific stop words). If float, the parameter represents a proportion of documents, integer absolute counts. This parameter is ignored if vocabulary is not None.\n",
    "```"
   ]
  },
  {
   "cell_type": "code",
   "execution_count": 3,
   "metadata": {},
   "outputs": [
    {
     "data": {
      "image/png": "[encoded data removed]",
      "text/plain": [
       "<matplotlib.figure.Figure at 0x25ce98dc128>"
      ]
     },
     "metadata": {},
     "output_type": "display_data"
    }
   ],
   "source": [
    "from sklearn.feature_extraction.text import TfidfVectorizer\n",
    "from sklearn.svm import LinearSVC\n",
    "from sklearn.pipeline import Pipeline\n",
    "from sklearn.model_selection import GridSearchCV\n",
    "from sklearn.datasets import load_files\n",
    "from sklearn.model_selection import train_test_split\n",
    "import matplotlib.pyplot as plt\n",
    "import numpy\n",
    "\n",
    "if __name__ == \"__main__\":\n",
    "    movie_reviews_data_folder = 'txt_sentoken'\n",
    "    dataset = load_files(movie_reviews_data_folder, shuffle=False)\n",
    "\n",
    "    docs_train, docs_test, y_train, y_test = train_test_split(\n",
    "        dataset.data, dataset.target, test_size=0.25, random_state=None)\n",
    "\n",
    "    pipeline = Pipeline([\n",
    "        ('vect', TfidfVectorizer()),\n",
    "        ('clf', LinearSVC(C=1000)),\n",
    "    ])\n",
    "\n",
    "    parameters = {\n",
    "        'vect__max_df': [i for i in numpy.arange(0.5, 1.05, 0.05)],\n",
    "    }\n",
    "    grid_search = GridSearchCV(pipeline, parameters, n_jobs=-1)\n",
    "    grid_search.fit(docs_train, y_train)\n",
    "    n_candidates = len(grid_search.cv_results_['params'])\n",
    "\n",
    "    max_df = []\n",
    "    mean = []\n",
    "    for i in range(n_candidates):\n",
    "        max_df.append(grid_search.cv_results_['params'][i]['vect__max_df'])\n",
    "        mean.append(grid_search.cv_results_['mean_test_score'][i])\n",
    "\n",
    "    plt.figure(figsize=(8, 5), dpi=100)\n",
    "    plt.plot(max_df, mean)\n",
    "    plt.xticks(max_df)\n",
    "    for i in max_df:\n",
    "        plt.axvline(x=i, linewidth=1, color='silver')\n",
    "    plt.xlabel(\"max_df\")\n",
    "    plt.ylabel(\"Average Accuracy\")\n",
    "    plt.title(\"Relation between max_df and accuracy\")\n",
    "    plt.tight_layout()\n",
    "    plt.show()"
   ]
  },
  {
   "cell_type": "markdown",
   "metadata": {},
   "source": [
    "---\n",
    "- ngram_range : tuple (min_n, max_n)\n",
    "```\n",
    "The lower and upper boundary of the range of n-values for different n-grams to be extracted. All values of n such that min_n <= n <= max_n will be used.\n",
    "```"
   ]
  },
  {
   "cell_type": "code",
   "execution_count": 4,
   "metadata": {},
   "outputs": [
    {
     "name": "stdout",
     "output_type": "stream",
     "text": [
      "ngram_range:  (1, 1) \tAccurancy: 0.843333333333\n",
      "ngram_range:  (1, 2) \tAccurancy: 0.831333333333\n",
      "ngram_range:  (2, 2) \tAccurancy: 0.821333333333\n",
      "ngram_range:  (2, 3) \tAccurancy: 0.806666666667\n",
      "ngram_range:  (1, 3) \tAccurancy: 0.798666666667\n",
      "ngram_range:  (2, 4) \tAccurancy: 0.796\n",
      "ngram_range:  (3, 3) \tAccurancy: 0.758666666667\n",
      "ngram_range:  (3, 4) \tAccurancy: 0.747333333333\n",
      "ngram_range:  (1, 4) \tAccurancy: 0.742\n",
      "ngram_range:  (4, 4) \tAccurancy: 0.702666666667\n"
     ]
    }
   ],
   "source": [
    "from sklearn.feature_extraction.text import TfidfVectorizer\n",
    "from sklearn.svm import LinearSVC\n",
    "from sklearn.pipeline import Pipeline\n",
    "from sklearn.model_selection import GridSearchCV\n",
    "from sklearn.datasets import load_files\n",
    "from sklearn.model_selection import train_test_split\n",
    "import operator\n",
    "\n",
    "if __name__ == \"__main__\":\n",
    "    movie_reviews_data_folder = 'txt_sentoken'\n",
    "    dataset = load_files(movie_reviews_data_folder, shuffle=False)\n",
    "\n",
    "    docs_train, docs_test, y_train, y_test = train_test_split(\n",
    "        dataset.data, dataset.target, test_size=0.25, random_state=None)\n",
    "\n",
    "    pipeline = Pipeline([\n",
    "        ('vect', TfidfVectorizer()),\n",
    "        ('clf', LinearSVC(C=1000)),\n",
    "    ])\n",
    "\n",
    "    parameters = {\n",
    "        'vect__ngram_range': [(1,1),(2,2),(3,3),(4,4),(1,2),(2,3),(3,4),(1,3),(2,4),(1,4)]\n",
    "    }\n",
    "    grid_search = GridSearchCV(pipeline, parameters, n_jobs=-1)\n",
    "    grid_search.fit(docs_train, y_train)\n",
    "    n_candidates = len(grid_search.cv_results_['params'])\n",
    "\n",
    "    result={}\n",
    "    for i in range(n_candidates):\n",
    "        result[grid_search.cv_results_['params'][i]['vect__ngram_range']] = grid_search.cv_results_['mean_test_score'][i]\n",
    "    sorted_result = reversed(sorted(result.items(), key=operator.itemgetter(1)))\n",
    "    \n",
    "    for i in sorted_result:\n",
    "        print('ngram_range: ',i[0],'\\tAccurancy:',i[1])\n"
   ]
  },
  {
   "cell_type": "markdown",
   "metadata": {},
   "source": [
    "---\n",
    "### Integrate min_df, max_df and ngram_range"
   ]
  },
  {
   "cell_type": "code",
   "execution_count": 15,
   "metadata": {
    "collapsed": true
   },
   "outputs": [],
   "source": [
    "\"\"\"\n",
    "Store the data into an HDF5 file\n",
    "\"\"\"\n",
    "from sklearn.feature_extraction.text import TfidfVectorizer\n",
    "from sklearn.svm import LinearSVC\n",
    "from sklearn.pipeline import Pipeline\n",
    "from sklearn.model_selection import GridSearchCV\n",
    "from sklearn.datasets import load_files\n",
    "from sklearn.model_selection import train_test_split\n",
    "import pandas as pd\n",
    "\n",
    "if __name__ == \"__main__\":\n",
    "    movie_reviews_data_folder = 'txt_sentoken'\n",
    "    dataset = load_files(movie_reviews_data_folder, shuffle=False)\n",
    "\n",
    "    docs_train, docs_test, y_train, y_test = train_test_split(\n",
    "        dataset.data, dataset.target, test_size=0.25, random_state=None)\n",
    "\n",
    "    pipeline = Pipeline([\n",
    "        ('vect', TfidfVectorizer(min_df=3, max_df=0.95)),\n",
    "        ('clf', LinearSVC(C=1000)),\n",
    "    ])\n",
    "\n",
    "    parameters = {\n",
    "        'vect__min_df': [0, 1, 2, 3, 4, 5],\n",
    "        'vect__max_df': [0.5, 0.6, 0.7, 0.8, 0.9, 1.0],\n",
    "        'vect__ngram_range': [(1, 1), (1, 2), (1, 3), (1, 4)]\n",
    "    }\n",
    "    grid_search = GridSearchCV(pipeline, parameters, n_jobs=-1)\n",
    "    grid_search.fit(docs_train, y_train)\n",
    "\n",
    "    n_candidates = len(grid_search.cv_results_['params'])\n",
    "    max_df = []\n",
    "    min_df = []\n",
    "    ngram_range = []\n",
    "    mean = []\n",
    "    std = []\n",
    "    for i in range(n_candidates):\n",
    "        max_df.append(grid_search.cv_results_['params'][i]['vect__max_df'])\n",
    "        min_df.append(grid_search.cv_results_['params'][i]['vect__min_df'])\n",
    "        ngram_range.append(str(grid_search.cv_results_['params'][i]['vect__ngram_range']))\n",
    "        mean.append(grid_search.cv_results_['mean_test_score'][i])\n",
    "        std.append(grid_search.cv_results_['std_test_score'][i])\n",
    "\n",
    "    data = {'max_df': max_df, 'min_df': min_df, 'ngram_range': ngram_range, 'mean': mean, 'std': std}\n",
    "    df = pd.DataFrame(data=data)\n",
    "    df = df[['max_df', 'min_df', 'ngram_range', 'mean', 'std']]\n",
    "    df = df.sort_values(by=['mean', 'std'], ascending=[0, 1])\n",
    "    hdf5 = pd.HDFStore('data.h5')\n",
    "    hdf5['data'] = df\n",
    "    hdf5.close()"
   ]
  },
  {
   "cell_type": "code",
   "execution_count": 16,
   "metadata": {},
   "outputs": [
    {
     "name": "stdout",
     "output_type": "stream",
     "text": [
      "     max_df  min_df ngram_range      mean       std\n",
      "137     1.0       4      (1, 2)  0.860000  0.004371\n",
      "33      0.6       2      (1, 2)  0.860000  0.004536\n",
      "65      0.7       4      (1, 2)  0.859333  0.005214\n",
      "133     1.0       3      (1, 2)  0.858667  0.002650\n",
      "57      0.7       2      (1, 2)  0.857333  0.001151\n",
      "39      0.6       3      (1, 4)  0.857333  0.008545\n",
      "41      0.6       4      (1, 2)  0.856667  0.000972\n",
      "138     1.0       4      (1, 3)  0.856667  0.002724\n",
      "37      0.6       3      (1, 2)  0.856667  0.004210\n",
      "66      0.7       4      (1, 3)  0.856667  0.004342\n",
      "81      0.8       2      (1, 2)  0.856667  0.004921\n",
      "13      0.5       3      (1, 2)  0.856667  0.009613\n",
      "61      0.7       3      (1, 2)  0.856000  0.004545\n",
      "63      0.7       3      (1, 4)  0.856000  0.010151\n",
      "67      0.7       4      (1, 4)  0.855333  0.006832\n",
      "62      0.7       3      (1, 3)  0.855333  0.008612\n",
      "17      0.5       4      (1, 2)  0.855333  0.010540\n",
      "129     1.0       2      (1, 2)  0.854667  0.004923\n",
      "38      0.6       3      (1, 3)  0.854667  0.006405\n",
      "15      0.5       3      (1, 4)  0.854667  0.006753\n",
      "85      0.8       3      (1, 2)  0.854000  0.001395\n",
      "113     0.9       4      (1, 2)  0.854000  0.004545\n",
      "58      0.7       2      (1, 3)  0.854000  0.007719\n",
      "71      0.7       5      (1, 4)  0.854000  0.008828\n",
      "9       0.5       2      (1, 2)  0.854000  0.008870\n",
      "91      0.8       4      (1, 4)  0.853333  0.002731\n",
      "42      0.6       4      (1, 3)  0.853333  0.003982\n",
      "43      0.6       4      (1, 4)  0.853333  0.005476\n",
      "89      0.8       4      (1, 2)  0.853333  0.005599\n",
      "14      0.5       3      (1, 3)  0.853333  0.008255\n",
      "..      ...     ...         ...       ...       ...\n",
      "101     0.9       1      (1, 2)  0.842000  0.007353\n",
      "136     1.0       4      (1, 1)  0.842000  0.011522\n",
      "74      0.8       0      (1, 3)  0.841333  0.012636\n",
      "78      0.8       1      (1, 3)  0.841333  0.012636\n",
      "96      0.9       0      (1, 1)  0.840667  0.002240\n",
      "100     0.9       1      (1, 1)  0.840667  0.002240\n",
      "26      0.6       0      (1, 3)  0.840000  0.006068\n",
      "30      0.6       1      (1, 3)  0.840000  0.006068\n",
      "116     0.9       5      (1, 1)  0.839333  0.005943\n",
      "68      0.7       5      (1, 1)  0.839333  0.006545\n",
      "121     1.0       0      (1, 2)  0.839333  0.008122\n",
      "125     1.0       1      (1, 2)  0.839333  0.008122\n",
      "140     1.0       5      (1, 1)  0.838667  0.008775\n",
      "92      0.8       5      (1, 1)  0.836667  0.010610\n",
      "51      0.7       0      (1, 4)  0.835333  0.009996\n",
      "55      0.7       1      (1, 4)  0.835333  0.009996\n",
      "3       0.5       0      (1, 4)  0.834667  0.009772\n",
      "7       0.5       1      (1, 4)  0.834667  0.009772\n",
      "27      0.6       0      (1, 4)  0.832667  0.003474\n",
      "31      0.6       1      (1, 4)  0.832667  0.003474\n",
      "98      0.9       0      (1, 3)  0.832000  0.007336\n",
      "102     0.9       1      (1, 3)  0.832000  0.007336\n",
      "75      0.8       0      (1, 4)  0.829333  0.011057\n",
      "79      0.8       1      (1, 4)  0.829333  0.011057\n",
      "99      0.9       0      (1, 4)  0.822667  0.007006\n",
      "103     0.9       1      (1, 4)  0.822667  0.007006\n",
      "122     1.0       0      (1, 3)  0.802000  0.008897\n",
      "126     1.0       1      (1, 3)  0.802000  0.008897\n",
      "123     1.0       0      (1, 4)  0.750667  0.010844\n",
      "127     1.0       1      (1, 4)  0.750667  0.010844\n",
      "\n",
      "[144 rows x 5 columns]\n"
     ]
    }
   ],
   "source": [
    "import pandas as pd\n",
    "data = pd.read_hdf('data.h5')\n",
    "print(data)"
   ]
  },
  {
   "cell_type": "markdown",
   "metadata": {},
   "source": [
    "*------------------------\n",
    "\n",
    "## Problem 3 (20 points): Machine learning algorithms\n"
   ]
  },
  {
   "cell_type": "markdown",
   "metadata": {},
   "source": [
    "* Based upon Problem 2 pick some parameters for TfidfVectorizer\n",
    "    * \"fit\" your TfidfVectorizer using docs_train\n",
    "    * Compute \"Xtrain\", a Tf-idf-weighted document-term matrix using the transform function on docs_train\n",
    "    * Compute \"Xtest\", a Tf-idf-weighted document-term matrix using the transform function on docs_test\n",
    "    * Note, be sure to use the same Tf-idf-weighted class (**\"fit\" using docs_train**) to transform **both** docs_test and docs_train\n",
    "* Examine two classifiers provided by scikit-learn \n",
    "    * LinearSVC\n",
    "    * KNeighborsClassifier\n",
    "    * Try a number of different parameter settings for each and judge your performance using a confusion matrix (see Problem 1 for an example).\n",
    "* Does one classifier, or one set of parameters work better?\n",
    "    * Why do you think it might be working better?\n",
    "* For a particular choice of parameters and classifier, look at 2 examples where the prediction was incorrect.\n",
    "    * Can you conjecture on why the classifier made a mistake for this prediction?"
   ]
  },
  {
   "cell_type": "code",
   "execution_count": null,
   "metadata": {
    "collapsed": true
   },
   "outputs": [],
   "source": []
  },
  {
   "cell_type": "markdown",
   "metadata": {},
   "source": [
    "*------------------------\n",
    "\n",
    "## Problem 4 (20 points): Open Ended Question:  Finding the right plot"
   ]
  },
  {
   "cell_type": "markdown",
   "metadata": {},
   "source": [
    "* Can you find a two dimensional plot in which the positive and negative reviews are separated?\n",
    "    * This problem is hard since you will likely have thousands of features for review, and you will need to transform these thousands of features into just two numbers (so that you can make a 2D plot).\n",
    "* Note, I was not able to find such a plot myself!\n",
    "    * So, this problem is about **trying** but perhaps **not necessarily succeeding**!\n",
    "* I tried two things, neither of which worked very well.\n",
    "    * I first plotted the length of the review versus the number of features we compute that are in that review\n",
    "    * Second I used Principle Component Analysis on a subset of the features.\n",
    "* Can you do better than I did!?"
   ]
  },
  {
   "cell_type": "code",
   "execution_count": null,
   "metadata": {
    "collapsed": true
   },
   "outputs": [],
   "source": []
  },
  {
   "cell_type": "markdown",
   "metadata": {},
   "source": [
    "# Report: communicate the results (20 points)\n",
    "\n",
    "(1) (5 points) What data you collected?\n",
    "\n",
    "(2) (5 points) Why this topic is interesting or important to you? (Motivations)\n",
    "\n",
    "(3) (5 points) How did you analyse the data?\n",
    "\n",
    "(4) (5 points) What did you find in the data?\n",
    "(please include figures or tables in the report, but no source code)"
   ]
  },
  {
   "cell_type": "markdown",
   "metadata": {},
   "source": [
    "# Slides (for 10 minutes of presentation) (20 points)\n",
    "\n",
    "\n",
    "1. (5 points) Motivation about the data collection, why the topic is interesting to you. \n",
    "\n",
    "2. (10 points) Communicating Results (figure/table)\n",
    "\n",
    "3. (5 points) Story telling (How all the parts (data, analysis, result) fit together as a story?)"
   ]
  },
  {
   "cell_type": "markdown",
   "metadata": {},
   "source": [
    "*-----------------\n",
    "# Done\n",
    "\n",
    "All set! \n",
    "\n",
    "** What do you need to submit?**\n",
    "\n",
    "* **Notebook File**: Save this IPython notebook, and find the notebook file in your folder (for example, \"filename.ipynb\"). This is the file you need to submit. Please make sure all the plotted tables and figures are in the notebook. If you used \"ipython notebook --pylab=inline\" to open the notebook, all the figures and tables should have shown up in the notebook.\n",
    "\n",
    "\n",
    "* **PPT Slides**: please prepare PPT slides (for 10 minutes' talk) to present about the case study . We will ask two teams which are randomly selected to present their case studies in class for this case study. \n",
    "\n",
    "* ** Report**: please prepare a report (less than 10 pages) to report what you found in the data.\n",
    "    * What is the relationship between this topic and Business Intelligence?\n",
    "    * How did you analyse the data?\n",
    "    * What did you find in the data? \n",
    "    * What conjectures did you make and how did you support or disprove them using data?\n",
    "    * Did you find anything suprising in the data?\n",
    "    * What business decision do you think this data could help answer?  Why?\n",
    "\n",
    "   (please include figures or tables in the report, **but no source code**)\n",
    "\n",
    "*Please compress all the files into a single zipped file.*\n",
    "\n",
    "\n",
    "** How to submit: **\n",
    "\n",
    "        Please submit through email to Prof. Paffenroth (rcpaffenroth@wpi.edu) *and* the TA Yingnan Liu (yliu18@wpi.edu).\n",
    "\n",
    "#### We auto-process the submissions so make sure your subject line is *exactly*:\n",
    "\n",
    "### DS501 Case Study 3 Team ??\n",
    "\n",
    "#### where ?? is your team number.\n",
    "        \n",
    "** Note: Each team just needs to submits one submission **"
   ]
  },
  {
   "cell_type": "code",
   "execution_count": null,
   "metadata": {
    "collapsed": true
   },
   "outputs": [],
   "source": []
  }
 ],
 "metadata": {
  "kernel_info": {
   "name": "python3"
  },
  "kernelspec": {
   "display_name": "Python 3",
   "language": "python",
   "name": "python3"
  },
  "language_info": {
   "codemirror_mode": {
    "name": "ipython",
    "version": 3
   },
   "file_extension": ".py",
   "mimetype": "text/x-python",
   "name": "python",
   "nbconvert_exporter": "python",
   "pygments_lexer": "ipython3",
   "version": "3.6.1"
  },
  "nteract": {
   "version": "0.2.0"
  }
 },
 "nbformat": 4,
 "nbformat_minor": 1
}
